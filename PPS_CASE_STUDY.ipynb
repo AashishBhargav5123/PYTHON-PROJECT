{
  "nbformat": 4,
  "nbformat_minor": 0,
  "metadata": {
    "colab": {
      "name": "PPS CASE STUDY.ipynb",
      "provenance": [],
      "collapsed_sections": [],
      "authorship_tag": "ABX9TyOo4mL3LsPudTJ8R9YrNzfe",
      "include_colab_link": true
    },
    "kernelspec": {
      "name": "python3",
      "display_name": "Python 3"
    },
    "language_info": {
      "name": "python"
    }
  },
  "cells": [
    {
      "cell_type": "markdown",
      "metadata": {
        "id": "view-in-github",
        "colab_type": "text"
      },
      "source": [
        "<a href=\"https://colab.research.google.com/github/AashishBhargav5123/PYTHON-PROJECT/blob/main/PPS_CASE_STUDY.ipynb\" target=\"_parent\"><img src=\"https://colab.research.google.com/assets/colab-badge.svg\" alt=\"Open In Colab\"/></a>"
      ]
    },
    {
      "cell_type": "code",
      "execution_count": null,
      "metadata": {
        "colab": {
          "base_uri": "https://localhost:8080/"
        },
        "id": "xJsc-FkGMO6e",
        "outputId": "6bdb234e-1e22-4fc4-f73d-432af4ec501e"
      },
      "outputs": [
        {
          "output_type": "stream",
          "name": "stdout",
          "text": [
            "     Name  Age Height\n",
            "0  Andrew   16  155cm\n",
            "1     Ben   18  162cm\n",
            "2   Brent   20  160cm\n",
            "3  Jeremy   22  153cm\n"
          ]
        }
      ],
      "source": [
        "import pandas as pd\n",
        " \n",
        "# intialise data of lists.\n",
        "data = {'Name':['Andrew', 'Ben', 'Brent', 'Jeremy'],\n",
        "        'Age':[16, 18, 20, 22], 'Height':['155cm', '162cm', '160cm', '153cm']}\n",
        " \n",
        "# Create DataFrame\n",
        "df = pd.DataFrame(data)\n",
        " \n",
        "# Print the output.\n",
        "print(df)"
      ]
    },
    {
      "cell_type": "code",
      "source": [
        "import numpy as np\n",
        "import pandas as pd\n",
        "\"\"\"Analysis of 7 Countries\"\"\"\n",
        "df=pd.DataFrame({\n",
        "    'Population' : [35.467, 149.951, 80.94, 60.665, 150.061, 35.511, 318.523],\n",
        "    'GDP' : [8574536, 1974600, 263686, 1890000, 3542567, 336572, 43256753],\n",
        "    'Surface Area' : [9483209, 2973190, 881913, 301340, 959700 , 147512, 8574638],\n",
        "    'HDI' : [0.644, 0.745, 0.968, 0.242, 0.664, 0.776, 0.666],\n",
        "    'Continent' : ['America', 'Asia', 'Asia', 'Europe', 'Asia', 'Asia', 'America']\n",
        "\n",
        "},columns=['Population', 'GDP', 'Surface Area', 'HDI', 'Continent'])\n",
        "df.index=[\n",
        "          'Canada',\n",
        "          'India',\n",
        "          'Pakistan',\n",
        "          'Italy',\n",
        "          'China',\n",
        "          'Nepal',\n",
        "          'United States']\n",
        "print(df)\n",
        "print()\n",
        "print(df.loc['Canada'])\n",
        "print()\n",
        "print(\"Mean: \")\n",
        "print(df.mean())\n",
        "crisis=pd.Series([-1000000,-0.3], index=['GDP', 'HDI'])\n",
        "print()\n",
        "print(df[['GDP','HDI']]+crisis)\n",
        "lang=pd.Series(\n",
        "                ['English','Chinese','Italian'],\n",
        "               index=['Canada','China','Italy']\n",
        ")\n",
        "df['Language']=lang\n",
        "print()\n",
        "print(df)"
      ],
      "metadata": {
        "colab": {
          "base_uri": "https://localhost:8080/"
        },
        "id": "blRJstJzNXV7",
        "outputId": "3a3db6f3-5a51-4378-ba90-dde6b9e795de"
      },
      "execution_count": null,
      "outputs": [
        {
          "output_type": "stream",
          "name": "stdout",
          "text": [
            "               Population       GDP  Surface Area    HDI Continent\n",
            "Canada             35.467   8574536       9483209  0.644   America\n",
            "India             149.951   1974600       2973190  0.745      Asia\n",
            "Pakistan           80.940    263686        881913  0.968      Asia\n",
            "Italy              60.665   1890000        301340  0.242    Europe\n",
            "China             150.061   3542567        959700  0.664      Asia\n",
            "Nepal              35.511    336572        147512  0.776      Asia\n",
            "United States     318.523  43256753       8574638  0.666   America\n",
            "\n",
            "Population       35.467\n",
            "GDP             8574536\n",
            "Surface Area    9483209\n",
            "HDI               0.644\n",
            "Continent       America\n",
            "Name: Canada, dtype: object\n",
            "\n",
            "Mean: \n",
            "Population      1.187311e+02\n",
            "GDP             8.548388e+06\n",
            "Surface Area    3.331643e+06\n",
            "HDI             6.721429e-01\n",
            "dtype: float64\n",
            "\n",
            "                      GDP    HDI\n",
            "Canada          7574536.0  0.344\n",
            "India            974600.0  0.445\n",
            "Pakistan        -736314.0  0.668\n",
            "Italy            890000.0 -0.058\n",
            "China           2542567.0  0.364\n",
            "Nepal           -663428.0  0.476\n",
            "United States  42256753.0  0.366\n",
            "\n",
            "               Population       GDP  Surface Area    HDI Continent Language\n",
            "Canada             35.467   8574536       9483209  0.644   America  English\n",
            "India             149.951   1974600       2973190  0.745      Asia      NaN\n",
            "Pakistan           80.940    263686        881913  0.968      Asia      NaN\n",
            "Italy              60.665   1890000        301340  0.242    Europe  Italian\n",
            "China             150.061   3542567        959700  0.664      Asia  Chinese\n",
            "Nepal              35.511    336572        147512  0.776      Asia      NaN\n",
            "United States     318.523  43256753       8574638  0.666   America      NaN\n"
          ]
        }
      ]
    },
    {
      "cell_type": "code",
      "source": [
        "import pandas as pd\n",
        "import numpy as np\n",
        "print(\"Mark of Student\")\n",
        "marks=[92,72,83,98,97]\n",
        "sub_name=['Maths','Chemistry','Physics','History','English']\n",
        "ind=pd.Series(marks,index=sub_name)\n",
        "dt=pd.DataFrame(\n",
        "    {\n",
        "        \"Subjects\":pd.Series(sub_name),\n",
        "        \"Marks\":pd.Series(marks),\n",
        "        \"Grade\":pd.Series(['A','B','C','A','A']),\n",
        "        \"Qualification\":'Pass',\n",
        "        \"Rank\":np.array([1]*5),\n",
        "    }\n",
        ")\n",
        "print(dt)"
      ],
      "metadata": {
        "colab": {
          "base_uri": "https://localhost:8080/"
        },
        "id": "0CpzAecORpwU",
        "outputId": "50f98fb3-78dc-4694-d9a6-1e8a125a82e1"
      },
      "execution_count": null,
      "outputs": [
        {
          "output_type": "stream",
          "name": "stdout",
          "text": [
            "Mark of Student\n",
            "   Subjects  Marks Grade Qualification  Rank\n",
            "0     Maths     92     A          Pass     1\n",
            "1   Science     72     B          Pass     1\n",
            "2  Computer     83     C          Pass     1\n",
            "3    Social     98     A          Pass     1\n",
            "4   English     97     A          Pass     1\n"
          ]
        }
      ]
    },
    {
      "cell_type": "code",
      "source": [
        "marks=[92,72,83,98,97]\n",
        "sub_name=['Maths','Chemistry','Physics','History','English']\n",
        "ind=pd.Series(marks,index=sub_name)\n",
        "dt=pd.DataFrame(\n",
        "    {\n",
        "        \"Subjects\":pd.Series(sub_name),\n",
        "        \"Marks\":pd.Series(marks),\n",
        "        \"Grade\":pd.Series(['A','B','B','A','A']),\n",
        "        \"Qualification\":'Pass',\n",
        "        \"Rank\":np.array([1]*5),\n",
        "    }\n",
        ")\n",
        "print(marks)\n",
        "mrk=np.mean(marks)\n",
        "mrk1=np.median(marks)\n",
        "\n",
        "print(\"Mean marks is:\",mrk)\n",
        "print(\"Median mark is:\",mrk1)\n",
        "x=np.percentile(marks, 80, axis=None,interpolation='midpoint')\n",
        "print(\"Percentile function:\",x)\n",
        "y=np.var(marks, axis=None, dtype=None, ddof=0)\n",
        "print(\"Variance function:\",y)\n",
        "z=np.std(marks, axis=None, dtype=None, ddof=0)\n",
        "print(\"Standard deviation:\",z)"
      ],
      "metadata": {
        "colab": {
          "base_uri": "https://localhost:8080/"
        },
        "id": "poGfOxIVR6Be",
        "outputId": "5945ed77-a87b-4629-ee50-c08ed4ec3883"
      },
      "execution_count": null,
      "outputs": [
        {
          "output_type": "stream",
          "name": "stdout",
          "text": [
            "[92, 72, 83, 98, 97]\n",
            "Mean marks is: 88.4\n",
            "Median mark is: 92.0\n",
            "Percentile function: 97.5\n",
            "Variance function: 95.44000000000003\n",
            "Standard deviation: 9.769339793455853\n"
          ]
        }
      ]
    }
  ]
}